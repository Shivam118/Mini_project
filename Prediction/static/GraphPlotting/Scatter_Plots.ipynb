{
 "cells": [
  {
   "cell_type": "code",
   "execution_count": 2,
   "metadata": {},
   "outputs": [],
   "source": []
  },
  {
   "cell_type": "code",
   "execution_count": 4,
   "metadata": {},
   "outputs": [
    {
     "name": "stdout",
     "output_type": "stream",
     "text": [
      "Country: india\n"
     ]
    },
    {
     "data": {
      "image/png": "[encoded data removed]",
      "text/plain": [
       "<Figure size 432x288 with 1 Axes>"
      ]
     },
     "metadata": {
      "needs_background": "light"
     },
     "output_type": "display_data"
    }
   ],
   "source": [
    "import pandas as pd\n",
    "import numpy as np\n",
    "import matplotlib.pyplot as plt\n",
    "\n",
    "#Country Name as Input\n",
    "country_name = input(\"Country: \")\n",
    "\n",
    "#File Path\n",
    "file_path = \"DeathAndGrowthRate.csv\" + '\\\\' + country_name.upper() + '.csv'\n",
    "data = pd.read_csv(file_path)\n",
    "\n",
    "#assigning Particular columns to its variable\n",
    "year = data['Year']\n",
    "death_rate = data['Death Rate']\n",
    "growth_rate = data['Growth Rate']\n",
    "\n",
    "#converting it to array\n",
    "year = year.to_numpy()\n",
    "death_rate = death_rate.to_numpy()\n",
    "growth_rate = growth_rate.to_numpy()\n",
    "\n",
    "#Plotting Graph\n",
    "fig, gph = plt.subplots()\n",
    "\n",
    "gph.scatter(year,death_rate,label=\"Death Rate\",color='r')\n",
    "gph.scatter(year,growth_rate,label=\"Growth Rate\",color='g')\n",
    "gph_title = 'Life in ' + country_name\n",
    "gph.legend()  #units\n",
    "gph.set_title(gph_title)  #title of Graph\n",
    "gph.xaxis.set_label_text('Year')   #X-Axis Label\n",
    "gph.yaxis.set_label_text(\"RATE (in %age)\")   #Y-Axis Label\n",
    "\n",
    "plt.savefig(r'../App/Static/Files/scatter.png',dpi=100)\n",
    "\n",
    "plt.show()"
   ]
  }
 ],
 "metadata": {
  "kernelspec": {
   "display_name": "Python 3",
   "language": "python",
   "name": "python3"
  },
  "language_info": {
   "codemirror_mode": {
    "name": "ipython",
    "version": 3
   },
   "file_extension": ".py",
   "mimetype": "text/x-python",
   "name": "python",
   "nbconvert_exporter": "python",
   "pygments_lexer": "ipython3",
   "version": "3.7.4"
  }
 },
 "nbformat": 4,
 "nbformat_minor": 2
}
